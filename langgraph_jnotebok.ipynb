{
 "cells": [
  {
   "cell_type": "code",
   "execution_count": 1,
   "id": "3f0dad5e",
   "metadata": {},
   "outputs": [],
   "source": [
    "from langgraph.graph import StateGraph, START,  END\n",
    "from langchain_openai import  ChatOpenAI \n",
    "from typing import TypedDict, Annotated\n",
    "from langchain_core.messages import BaseMessage , HumanMessage\n",
    "from dotenv import load_dotenv\n",
    "from langgraph.checkpoint.memory import MemorySaver #saves conv in memory(RAM)"
   ]
  },
  {
   "cell_type": "code",
   "execution_count": 2,
   "id": "bd5d5087",
   "metadata": {},
   "outputs": [
    {
     "data": {
      "text/plain": [
       "True"
      ]
     },
     "execution_count": 2,
     "metadata": {},
     "output_type": "execute_result"
    }
   ],
   "source": [
    "load_dotenv()"
   ]
  },
  {
   "cell_type": "code",
   "execution_count": 3,
   "id": "693a8f4f",
   "metadata": {},
   "outputs": [],
   "source": [
    "llm = ChatOpenAI( model = \"gpt-4o-mini\")\n"
   ]
  },
  {
   "cell_type": "code",
   "execution_count": 4,
   "id": "140cf0d2",
   "metadata": {},
   "outputs": [],
   "source": [
    "\n",
    "from langgraph.graph.message import add_messages # use to add all messages\n",
    "\n",
    "# define  a state \n",
    "class ChatState(TypedDict):\n",
    "    \n",
    "    messages : Annotated[list[BaseMessage], add_messages ] # all messages will be added(work aS reducer)\n",
    "    "
   ]
  },
  {
   "cell_type": "code",
   "execution_count": 5,
   "id": "ada51c67",
   "metadata": {},
   "outputs": [],
   "source": [
    "\n",
    "\n",
    "# making node function for chat\n",
    "\n",
    "def chat_node(state: ChatState):\n",
    "    \n",
    "    # user query\n",
    "    messages= state['messages']\n",
    "    \n",
    "    \n",
    "    # send to llm\n",
    "    response = llm.invoke(messages)\n",
    "    \n",
    "    #response resturn state\n",
    "    return {\"messages\": [response]} \n",
    "   # puuting respoonse in list because we are appending messages in in list in  a STATE\n",
    "    \n",
    "    "
   ]
  },
  {
   "cell_type": "code",
   "execution_count": 10,
   "id": "238f2790",
   "metadata": {},
   "outputs": [],
   "source": [
    "# persistence memory \n",
    "checkpointer = MemorySaver()\n",
    "\n",
    "# DEFINE A graph\n",
    "graph= StateGraph(ChatState)\n",
    "\n",
    "# add nodes\n",
    "graph.add_node( \"chat_node\", chat_node)\n",
    "\n",
    "\n",
    "#add edges\n",
    "graph.add_edge(START, \"chat_node\")\n",
    "graph.add_edge(\"chat_node\", END)\n",
    "\n",
    "# compile the graph\n",
    "chatbot= graph.compile(checkpointer=checkpointer)"
   ]
  },
  {
   "cell_type": "code",
   "execution_count": 11,
   "id": "7ccb6d30",
   "metadata": {},
   "outputs": [
    {
     "data": {
      "image/png": "[encoded data removed]",
      "text/plain": [
       "<langgraph.graph.state.CompiledStateGraph object at 0x000002BEF26AE950>"
      ]
     },
     "execution_count": 11,
     "metadata": {},
     "output_type": "execute_result"
    }
   ],
   "source": [
    "chatbot"
   ]
  },
  {
   "cell_type": "code",
   "execution_count": 14,
   "id": "d60e7407",
   "metadata": {},
   "outputs": [],
   "source": [
    "initial_state = {\n",
    "    \"messages\" : [HumanMessage(content=\"what is the capital of pakistan\")]\n",
    "}\n",
    "    # adding config and thread_id for memory\n",
    "    \n",
    "config ={\"configurable\": {\"thread_id\":\"1\"} }\n",
    "    \n",
    "final_state=chatbot.invoke(initial_state, config=config) "
   ]
  },
  {
   "cell_type": "code",
   "execution_count": null,
   "id": "a9b30eae",
   "metadata": {},
   "outputs": [],
   "source": []
  },
  {
   "cell_type": "code",
   "execution_count": 16,
   "id": "3f769fe8",
   "metadata": {},
   "outputs": [
    {
     "data": {
      "text/plain": [
       "'The capital of Pakistan is Islamabad. If you have any more questions or need information on a different topic, feel free to ask!'"
      ]
     },
     "execution_count": 16,
     "metadata": {},
     "output_type": "execute_result"
    }
   ],
   "source": [
    "final_state['messages'][-1].content"
   ]
  },
  {
   "cell_type": "code",
   "execution_count": null,
   "id": "5b341c42",
   "metadata": {},
   "outputs": [
    {
     "name": "stdout",
     "output_type": "stream",
     "text": [
      "USER:  hi\n",
      "CHATBOT:  Hello! How can I assist you today?\n",
      "USER:  my name is wasid\n",
      "CHATBOT:  Nice to meet you, Wasid! How can I help you today?\n",
      "USER:  what is my name ?\n",
      "CHATBOT:  Your name is Wasid. How can I assist you further?\n",
      "USER:  add 2 +2 \n",
      "CHATBOT:  2 + 2 equals 4. If you have any more questions or need further assistance, feel free to ask!\n",
      "USER:  add 6 to the result\n",
      "CHATBOT:  Adding 6 to the previous result (4) gives you 10. If you have any more calculations or questions, let me know!\n",
      "USER:  bye\n"
     ]
    }
   ],
   "source": [
    "thread_id = '1' # session id\n",
    "\n",
    "while True:\n",
    "    \n",
    "    user_message = input(\"Type here:\")\n",
    "    \n",
    "    print(\"USER: \", user_message)\n",
    "    \n",
    "    \n",
    "    \n",
    "    if user_message.strip().lower() in ['exit', 'quit', 'bye']:\n",
    "        break\n",
    "    \n",
    "    config={\"configurable\": {\"thread_id\":thread_id}} # using threadid to save our conversation\n",
    "    \n",
    "    response = chatbot.invoke({\"messages\": [HumanMessage(content= user_message)]} , config=config )\n",
    "    \n",
    "    \n",
    "    print(\"CHATBOT: \", response['messages'][-1].content)"
   ]
  },
  {
   "cell_type": "code",
   "execution_count": null,
   "id": "567f36ab",
   "metadata": {},
   "outputs": [],
   "source": []
  },
  {
   "cell_type": "code",
   "execution_count": null,
   "id": "22675284",
   "metadata": {},
   "outputs": [],
   "source": []
  }
 ],
 "metadata": {
  "kernelspec": {
   "display_name": "myenv",
   "language": "python",
   "name": "python3"
  },
  "language_info": {
   "codemirror_mode": {
    "name": "ipython",
    "version": 3
   },
   "file_extension": ".py",
   "mimetype": "text/x-python",
   "name": "python",
   "nbconvert_exporter": "python",
   "pygments_lexer": "ipython3",
   "version": "3.10.0"
  }
 },
 "nbformat": 4,
 "nbformat_minor": 5
}
